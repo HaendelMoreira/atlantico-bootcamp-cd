{
 "cells": [
  {
   "cell_type": "markdown",
   "id": "ff211ca1-c5e3-4113-a009-2b0831bc3c43",
   "metadata": {},
   "source": [
    "# Codificação de dados textuais"
   ]
  },
  {
   "cell_type": "markdown",
   "id": "3a3c7bc0-7037-4443-9952-2250f2a77f15",
   "metadata": {},
   "source": [
    "## 1. Explicação"
   ]
  },
  {
   "cell_type": "markdown",
   "id": "8db42329-626d-479a-8720-bb2b52f276e1",
   "metadata": {},
   "source": [
    "### 1.1 Bag of words"
   ]
  },
  {
   "cell_type": "markdown",
   "id": "e8ca2892-d6f7-45b1-b6d3-213e3a1ff59b",
   "metadata": {},
   "source": [
    "Bag of words ou bolsa de palavras é um método de processamento de linguagem natural para simplificar a representação de textos de forma que este possa ser interpretado por ferramentas de aprendizado de máquina. Esta técnica consiste em representar um texto como um conjunto de suas palavras, de forma vetorizada, neste caso não tendo relevância a ordem que as palavras aparecem e sim a quantidade de ocorrências."
   ]
  },
  {
   "cell_type": "markdown",
   "id": "341b6e86-605e-4470-abe7-63a5385278b3",
   "metadata": {},
   "source": [
    "### 1.2 tf-idf"
   ]
  },
  {
   "cell_type": "markdown",
   "id": "8890aac2-e0c9-41ff-905f-5e0eb514dbde",
   "metadata": {},
   "source": [
    "Tf idf é um método estatístico capaz de indicar a relevância de uma palavra dentro de texto, neste caso além de analisar as ocorrências é possível indentificar termos que possam aparecer com muita frequência porém não possuam tanta relevância quanto os temas chave."
   ]
  },
  {
   "cell_type": "markdown",
   "id": "0f90baa4-e067-4226-8a9b-b2b4522d89b7",
   "metadata": {},
   "source": [
    "## 2. Prática"
   ]
  },
  {
   "cell_type": "markdown",
   "id": "12c98eaa-fea5-4855-902d-33261107fb43",
   "metadata": {},
   "source": [
    "### 2.1 Bag of words"
   ]
  },
  {
   "cell_type": "code",
   "execution_count": 1,
   "id": "75ae70d2-fdb7-412e-8549-0214e5d66f10",
   "metadata": {},
   "outputs": [],
   "source": [
    "frases = [\n",
    "    \"John likes\",\n",
    "    \"likes to\",\n",
    "    \"to  watch\",\n",
    "    \"watch  movies\",\n",
    "    \"Mary  likes\",\n",
    "    \"likes  movies\",\n",
    "    \"movies too\",\n",
    "    ]"
   ]
  },
  {
   "cell_type": "code",
   "execution_count": 2,
   "id": "2994bc84-75c5-4ac0-b18a-5b7d0ff01b28",
   "metadata": {},
   "outputs": [
    {
     "data": {
      "text/plain": [
       "array([[1, 1, 0, 0, 0, 0, 0],\n",
       "       [0, 1, 0, 0, 1, 0, 0],\n",
       "       [0, 0, 0, 0, 1, 0, 1],\n",
       "       [0, 0, 0, 1, 0, 0, 1],\n",
       "       [0, 1, 1, 0, 0, 0, 0],\n",
       "       [0, 1, 0, 1, 0, 0, 0],\n",
       "       [0, 0, 0, 1, 0, 1, 0]])"
      ]
     },
     "execution_count": 2,
     "metadata": {},
     "output_type": "execute_result"
    }
   ],
   "source": [
    "from sklearn.feature_extraction.text import CountVectorizer\n",
    "vectorizer = CountVectorizer()\n",
    "X = vectorizer.fit_transform(frases)\n",
    "X.toarray()"
   ]
  },
  {
   "cell_type": "markdown",
   "id": "b82dbae6-722c-4d65-a4fc-ac00d1b1cd5b",
   "metadata": {},
   "source": [
    "### 2.2 tf-idf"
   ]
  },
  {
   "cell_type": "code",
   "execution_count": 3,
   "id": "d1c1d574-92a0-49ad-88ec-5db6c9e6ef07",
   "metadata": {},
   "outputs": [
    {
     "data": {
      "text/plain": [
       "array([[0.85141699, 0.52448938, 0.        , 0.        , 0.        ,\n",
       "        0.        , 0.        ],\n",
       "       [0.        , 0.59594003, 0.        , 0.        , 0.80302894,\n",
       "        0.        , 0.        ],\n",
       "       [0.        , 0.        , 0.        , 0.        , 0.70710678,\n",
       "        0.        , 0.70710678],\n",
       "       [0.        , 0.        , 0.        , 0.64974959, 0.        ,\n",
       "        0.        , 0.76014832],\n",
       "       [0.        , 0.52448938, 0.85141699, 0.        , 0.        ,\n",
       "        0.        , 0.        ],\n",
       "       [0.        , 0.65559486, 0.        , 0.75511282, 0.        ,\n",
       "        0.        , 0.        ],\n",
       "       [0.        , 0.        , 0.        , 0.57866699, 0.        ,\n",
       "        0.81556393, 0.        ]])"
      ]
     },
     "execution_count": 3,
     "metadata": {},
     "output_type": "execute_result"
    }
   ],
   "source": [
    "from sklearn.feature_extraction.text import TfidfVectorizer\n",
    "vectorizer = TfidfVectorizer()\n",
    "tfidf = vectorizer.fit_transform(frases)\n",
    "tfidf.toarray()"
   ]
  }
 ],
 "metadata": {
  "kernelspec": {
   "display_name": "Python 3 (ipykernel)",
   "language": "python",
   "name": "python3"
  },
  "language_info": {
   "codemirror_mode": {
    "name": "ipython",
    "version": 3
   },
   "file_extension": ".py",
   "mimetype": "text/x-python",
   "name": "python",
   "nbconvert_exporter": "python",
   "pygments_lexer": "ipython3",
   "version": "3.8.10"
  }
 },
 "nbformat": 4,
 "nbformat_minor": 5
}
